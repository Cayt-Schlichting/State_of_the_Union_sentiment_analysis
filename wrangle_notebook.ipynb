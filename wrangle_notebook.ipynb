{
 "cells": [
  {
   "cell_type": "code",
   "execution_count": 1,
   "id": "1df85885",
   "metadata": {},
   "outputs": [],
   "source": [
    "import pandas as pd\n",
    "\n",
    "from requests import get\n",
    "from bs4 import BeautifulSoup\n",
    "\n",
    "#Set my header - will tell a website a bit about who you are\n",
    "headers = {'User-Agent': 'Codeup Data Science'}"
   ]
  },
  {
   "cell_type": "markdown",
   "id": "ae5d7036",
   "metadata": {},
   "source": [
    "### Acquire the data\n",
    "\n",
    "home page for state of the unions: https://www.govinfo.gov/features/state-of-the-union\n",
    "\n",
    "Since only about 30 entries, just going to grab the links"
   ]
  },
  {
   "cell_type": "code",
   "execution_count": null,
   "id": "a4173844",
   "metadata": {
    "collapsed": true
   },
   "outputs": [],
   "source": [
    "sotu_urls = [\n",
    "    'https://www.govinfo.gov/content/pkg/DCPD-202000058/html/DCPD-202000058.htm',\n",
    "    'https://www.govinfo.gov/content/pkg/DCPD-201900063/html/DCPD-201900063.htm',\n",
    "    'https://www.govinfo.gov/content/pkg/DCPD-201800064/html/DCPD-201800064.htm',\n",
    "    'https://www.govinfo.gov/content/pkg/DCPD-201700150/html/DCPD-201700150.htm',\n",
    "    'https://www.govinfo.gov/content/pkg/DCPD-201600012/html/DCPD-201600012.htm',\n",
    "    'https://www.govinfo.gov/content/pkg/DCPD-201500036/html/DCPD-201500036.htm',\n",
    "    'https://www.govinfo.gov/content/pkg/DCPD-201400050/html/DCPD-201400050.htm',\n",
    "    'https://www.govinfo.gov/content/pkg/DCPD-201300090/html/DCPD-201300090.htm',\n",
    "    'https://www.govinfo.gov/content/pkg/DCPD-201200048/html/DCPD-201200048.htm',\n",
    "    'https://www.govinfo.gov/content/pkg/DCPD-201100047/html/DCPD-201100047.htm',\n",
    "    'https://www.govinfo.gov/content/pkg/DCPD-201000055/html/DCPD-201000055.htm',\n",
    "    'https://www.govinfo.gov/content/pkg/DCPD-200900105/html/DCPD-200900105.htm',\n",
    "    'https://www.govinfo.gov/content/pkg/WCPD-2008-02-04/html/WCPD-2008-02-04-Pg117.htm',\n",
    "    'https://www.govinfo.gov/content/pkg/WCPD-2007-01-29/html/WCPD-2007-01-29-Pg57.htm',\n",
    "    'https://www.govinfo.gov/app/details/WCPD-2006-02-06/WCPD-2006-02-06-Pg145-3',\n",
    "    'https://www.govinfo.gov/content/pkg/WCPD-2005-02-07/html/WCPD-2005-02-07-Pg126.htm',\n",
    "    'https://www.govinfo.gov/content/pkg/WCPD-2004-01-26/html/WCPD-2004-01-26-Pg94-2.htm',\n",
    "    'https://www.govinfo.gov/content/pkg/CREC-2003-01-28/html/CREC-2003-01-28-pt1-PgH212.htm',\n",
    "    'https://www.govinfo.gov/content/pkg/WCPD-2003-02-03/html/WCPD-2003-02-03-Pg109.htm',\n",
    "    'https://www.govinfo.gov/content/pkg/WCPD-2002-02-04/html/WCPD-2002-02-04-Pg133-3.htm',\n",
    "    'https://www.govinfo.gov/content/pkg/WCPD-2001-03-05/html/WCPD-2001-03-05-Pg351-2.htm',\n",
    "    'https://www.govinfo.gov/content/pkg/WCPD-2000-01-31/html/WCPD-2000-01-31-Pg160-2.htm',\n",
    "    'https://www.govinfo.gov/content/pkg/WCPD-1999-01-25/html/WCPD-1999-01-25-Pg78-2.htm',\n",
    "    'https://www.govinfo.gov/content/pkg/WCPD-1998-02-02/html/WCPD-1998-02-02-Pg129-2.htm',\n",
    "    'https://www.govinfo.gov/content/pkg/WCPD-1997-02-10/html/WCPD-1997-02-10-Pg136.htm',\n",
    "    'https://www.govinfo.gov/content/pkg/WCPD-1996-01-29/html/WCPD-1996-01-29-Pg90.htm',\n",
    "    'https://www.govinfo.gov/content/pkg/WCPD-1995-01-30/html/WCPD-1995-01-30-Pg96.htm',\n",
    "    'https://www.govinfo.gov/content/pkg/WCPD-1994-01-31/html/WCPD-1994-01-31-Pg148.htm'\n",
    "]"
   ]
  }
 ],
 "metadata": {
  "kernelspec": {
   "display_name": "Python 3 (ipykernel)",
   "language": "python",
   "name": "python3"
  },
  "language_info": {
   "codemirror_mode": {
    "name": "ipython",
    "version": 3
   },
   "file_extension": ".py",
   "mimetype": "text/x-python",
   "name": "python",
   "nbconvert_exporter": "python",
   "pygments_lexer": "ipython3",
   "version": "3.9.7"
  }
 },
 "nbformat": 4,
 "nbformat_minor": 5
}
